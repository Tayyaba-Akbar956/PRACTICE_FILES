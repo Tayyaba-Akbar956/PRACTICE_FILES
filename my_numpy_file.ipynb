{
 "cells": [
  {
   "cell_type": "code",
   "execution_count": 65,
   "metadata": {},
   "outputs": [],
   "source": [
    "import numpy as np\n"
   ]
  },
  {
   "cell_type": "code",
   "execution_count": 66,
   "metadata": {},
   "outputs": [
    {
     "name": "stdout",
     "output_type": "stream",
     "text": [
      "[1 2 3 4]\n",
      "<class 'numpy.ndarray'>\n"
     ]
    }
   ],
   "source": [
    "# CREATING AN ARRAY\n",
    "arr = np.array ([1,2,3,4])\n",
    "print (arr)\n",
    "print (type(arr))"
   ]
  },
  {
   "cell_type": "code",
   "execution_count": 67,
   "metadata": {},
   "outputs": [
    {
     "name": "stdout",
     "output_type": "stream",
     "text": [
      "[[ 1  2  3  4]\n",
      " [ 5  6  7  8]\n",
      " [ 9 10 11 12]]\n",
      "<class 'numpy.ndarray'>\n"
     ]
    }
   ],
   "source": [
    "# CREATING MULTI DIMENSIONAL ARRAY\n",
    "a = np.array ([[1,2,3,4],[5,6,7,8],[9,10,11,12]])\n",
    "print (a)\n",
    "print (type(a))"
   ]
  },
  {
   "cell_type": "code",
   "execution_count": 68,
   "metadata": {},
   "outputs": [
    {
     "name": "stdout",
     "output_type": "stream",
     "text": [
      "[1 2 3 4]\n",
      "[1 2]\n",
      "[3 4]\n"
     ]
    }
   ],
   "source": [
    "# SLICING IN SINGLE DIMENSION ARRAY\n",
    "a = np.array ([1,2,3,4])\n",
    "print (a[:])\n",
    "print (a[0:2])\n",
    "print (a[2:])"
   ]
  },
  {
   "cell_type": "code",
   "execution_count": 69,
   "metadata": {},
   "outputs": [
    {
     "name": "stdout",
     "output_type": "stream",
     "text": [
      "[[1 2]\n",
      " [5 6]]\n",
      "[[1 2 3]\n",
      " [5 6 7]]\n",
      "[2]\n",
      "[6 7]\n",
      "9\n"
     ]
    }
   ],
   "source": [
    "# SLICING IN MULTI DIMENSIONAL ARRAY\n",
    "b = np.array ([[1,2,3,4],[5,6,7,8],[0,1,2,9]])\n",
    "print (b[0:2,0:2])\n",
    "print (b[0:2,0:3])\n",
    "print (b[0,1:2])\n",
    "print (b[1,1:3])\n",
    "print (b[2,3])"
   ]
  },
  {
   "cell_type": "code",
   "execution_count": 70,
   "metadata": {},
   "outputs": [
    {
     "name": "stdout",
     "output_type": "stream",
     "text": [
      "(3, 4)\n",
      "12\n",
      "2\n",
      "int64\n"
     ]
    }
   ],
   "source": [
    "# ATTRIBUTES OF ARRAY\n",
    "c = np.array ([[1,2,3,4],[5,6,7,8],[0,1,2,9]])\n",
    "print (np.shape(c)) # no. of rows and coloumns\n",
    "print (np.size(c)) # total no. of elements\n",
    "print (np.ndim(c)) # no. of dimensions\n",
    "print (c.dtype) # datatype of stored elements "
   ]
  },
  {
   "cell_type": "code",
   "execution_count": 71,
   "metadata": {},
   "outputs": [
    {
     "name": "stdout",
     "output_type": "stream",
     "text": [
      "(2, 4)\n",
      "2\n",
      "8\n",
      "<class 'numpy.ndarray'>\n",
      "float64\n",
      "[[10 20  3 60]\n",
      " [12 45 23 55]]\n",
      "[['10.0' '20.4' '3.0' '60.0']\n",
      " ['12.0' '45.6' '23.0' '55.0']]\n"
     ]
    }
   ],
   "source": [
    "#  INSPECTION OF ARRAY\n",
    "a = [[10,20.4,3,60],[12,45.6,23,55]]\n",
    "arr1 = np.array (a)\n",
    "print (arr1.shape) # no. of rows and columns\n",
    "print (len(arr1)) # no. of nested elements\n",
    "print (np.size(arr1)) # total no. of elements\n",
    "print (type(arr1)) # datatype of variable\n",
    "print (arr1.dtype)\n",
    "print (arr1.astype(int))\n",
    "print (arr1.astype(str))"
   ]
  },
  {
   "cell_type": "code",
   "execution_count": 72,
   "metadata": {},
   "outputs": [
    {
     "name": "stdout",
     "output_type": "stream",
     "text": [
      "[11 22 33 44]\n",
      "[11 22 33 44]\n",
      "[[11 22]\n",
      " [33 44]]\n",
      "[[11 22]\n",
      " [33 44]]\n",
      "[ 9 18 27 36]\n",
      "[ 9 18 27 36]\n",
      "[[ 9 18]\n",
      " [27 36]]\n",
      "[[ 9 18]\n",
      " [27 36]]\n",
      "[ 10  40  90 160]\n",
      "[ 10  40  90 160]\n",
      "[[ 10  40]\n",
      " [ 90 160]]\n",
      "[[ 10  40]\n",
      " [ 90 160]]\n",
      "[10. 10. 10. 10.]\n",
      "[10. 10. 10. 10.]\n",
      "[[10. 10.]\n",
      " [10. 10.]]\n",
      "[[10 10]\n",
      " [10 10]]\n",
      "[ 1  4  9 16]\n",
      "None\n",
      "[ 1  4  9 16]\n",
      "[1 2 3 4]\n"
     ]
    }
   ],
   "source": [
    "#  OPERATION AND FUNCTION\n",
    "a1 = np.array ([10,20,30,40])\n",
    "a2 = np.array ([1,2,3,4])\n",
    "\n",
    "a3 = np.array ([[10,20],[30,40]])\n",
    "a4 = np.array ([[1,2],[3,4]])\n",
    "\n",
    "a5 = np.array ([2])\n",
    "a6 = np.array ([1,4,9,16])\n",
    "# ADDITION\n",
    "print (a1+a2)\n",
    "print (np.add(a1,a2))\n",
    "print (a3+a4)\n",
    "print (np.add(a3,a4))\n",
    "#SUBTRACTION\n",
    "print (a1-a2)\n",
    "print (np.subtract(a1,a2))\n",
    "print (a3-a4)\n",
    "print (np.subtract(a3,a4))\n",
    "#MULTIPLICATION\n",
    "print (a1*a2)\n",
    "print (np.multiply(a1,a2))\n",
    "print (a3*a4)\n",
    "print (np.multiply(a3,a4))\n",
    "#DIVISION\n",
    "print (a1/a2)\n",
    "print (np.divide(a1,a2))\n",
    "print (a3/a4)\n",
    "print (np.divide(a3,a4).astype(int))\n",
    "#POWER\n",
    "p = print (np.power(a2,a5))\n",
    "print (p)\n",
    "print (a2**2)\n",
    "#SQUARE ROOT\n",
    "print (np.sqrt(a6).astype(int))\n",
    "\n",
    "\n"
   ]
  },
  {
   "cell_type": "code",
   "execution_count": 73,
   "metadata": {},
   "outputs": [
    {
     "name": "stdout",
     "output_type": "stream",
     "text": [
      "[[1 2]\n",
      " [3 4]\n",
      " [6 7]\n",
      " [8 9]]\n",
      "[[1 2]\n",
      " [3 4]\n",
      " [6 7]\n",
      " [8 9]]\n",
      "[[1 2]\n",
      " [3 4]\n",
      " [6 7]\n",
      " [8 9]]\n",
      "[[1 2 6 7]\n",
      " [3 4 8 9]]\n",
      "[[1 2 6 7]\n",
      " [3 4 8 9]]\n"
     ]
    }
   ],
   "source": [
    "# CONCATENATION\n",
    "a1 = np.array ([[1,2],[3,4]])\n",
    "a2 = np.array ([[6,7],[8,9]])\n",
    "# VERTICAL\n",
    "print (np.concatenate([a1,a2]))\n",
    "print (np.vstack([a1,a2]))\n",
    "print (np.concatenate([a1,a2],axis = 0))\n",
    "# # HORIZONTAL\n",
    "print (np.hstack([a1,a2]))\n",
    "print (np.concatenate([a1,a2],axis = 1))\n"
   ]
  },
  {
   "cell_type": "code",
   "execution_count": 74,
   "metadata": {},
   "outputs": [
    {
     "name": "stdout",
     "output_type": "stream",
     "text": [
      "[array([[1, 2]]), array([[3, 4]]), array([], shape=(0, 2), dtype=int64), array([], shape=(0, 2), dtype=int64)]\n",
      "[array([[1, 2]]), array([[3, 4]]), array([], shape=(0, 2), dtype=int64)]\n",
      "[array([[1, 2]]), array([[3, 4]])]\n",
      "[array([[1, 2],\n",
      "       [3, 4]])]\n"
     ]
    }
   ],
   "source": [
    "#  SPLITTING\n",
    "a5 = np.array ([1,2,3,4,5])\n",
    "s = np.array_split(a5,7)\n",
    "t = np.array_split(a5,5)\n",
    "u = np.array_split(a5,3)\n",
    "# print (s)\n",
    "# print (t)\n",
    "# print (u)\n",
    "a6 = np.array ([[1,2],[3,4]])\n",
    "w= np.array_split(a6,4)\n",
    "x = np.array_split(a6,3)\n",
    "y = np.array_split(a6,2)\n",
    "z = np.array_split(a6,1)\n",
    "print (w)\n",
    "print (x)\n",
    "print (y)\n",
    "print (z)\n",
    "\n",
    "\n"
   ]
  },
  {
   "cell_type": "code",
   "execution_count": 75,
   "metadata": {},
   "outputs": [
    {
     "name": "stdout",
     "output_type": "stream",
     "text": [
      "[1 2 3 4 5 6 7 8]\n",
      "[1 0 2 3 4 5]\n",
      "[1 2 3 9 4 5]\n",
      "[1 3 4 5]\n"
     ]
    }
   ],
   "source": [
    "# INSERT AND REMOVE ELEMENT\n",
    "# APPEND\n",
    "a = np.array ([1,2,3,4,5])\n",
    "print (np.append(a,[6,7,8]))\n",
    "# INSERT\n",
    "print (np.insert(a,1,0))\n",
    "print (np.insert(a,3,9))\n",
    "# REMOVE\n",
    "print (np.delete(a,1))\n",
    "\n"
   ]
  },
  {
   "cell_type": "code",
   "execution_count": 76,
   "metadata": {},
   "outputs": [
    {
     "name": "stdout",
     "output_type": "stream",
     "text": [
      "[   1    2   13  768 3245]\n",
      "(array([0]),)\n",
      "2\n",
      "[  1 768   2]\n",
      "[768   2]\n"
     ]
    }
   ],
   "source": [
    "# SORT , SEARCH AND FILTER\n",
    "# SORT\n",
    "A = np.array ([1,3245,13,768,2])\n",
    "B = np.sort(A)\n",
    "print (B)\n",
    "# SEARCH\n",
    "S = np.where(A==1)\n",
    "print (S)\n",
    "# SEARCHSORT\n",
    "ss = np.searchsorted(B,13)\n",
    "print (ss)\n",
    "# FILTER\n",
    "F = [True,False,False,True,True]\n",
    "N = A[F]\n",
    "print (N)\n",
    "T=  (A%2==0)\n",
    "W = A[T]\n",
    "print (W)"
   ]
  },
  {
   "cell_type": "code",
   "execution_count": 77,
   "metadata": {},
   "outputs": [
    {
     "name": "stdout",
     "output_type": "stream",
     "text": [
      "6\n",
      "1\n",
      "3\n",
      "[1 3 6]\n",
      "[1 2 6]\n"
     ]
    }
   ],
   "source": [
    "#  AGGREGATING FUNCTION\n",
    "G = np.array ([1,2,3])\n",
    "print (np.sum(G))\n",
    "print (np.min(G))\n",
    "print (np.max(G))\n",
    "print (np.cumsum(G))\n",
    "print (np.cumprod(G))\n"
   ]
  },
  {
   "cell_type": "code",
   "execution_count": 78,
   "metadata": {},
   "outputs": [
    {
     "name": "stdout",
     "output_type": "stream",
     "text": [
      "2600\n"
     ]
    }
   ],
   "source": [
    "#  AGGREGATING FUNCTION ON MULTI_DIMENSIONAL ARRAY\n",
    "price= np.array ([100,100,150,200])\n",
    "quantity= np.array([2,4,3,5])\n",
    "tp= np.cumprod([price,quantity],axis = 0)\n",
    "total = np.sum(tp)\n",
    "print (total)\n"
   ]
  },
  {
   "cell_type": "code",
   "execution_count": 79,
   "metadata": {},
   "outputs": [
    {
     "name": "stdout",
     "output_type": "stream",
     "text": [
      "4.166666666666667\n",
      "3.5\n",
      "3\n",
      "2.733536577809454\n",
      "7.472222222222222\n"
     ]
    }
   ],
   "source": [
    "#  STATISTICAL FUNCTION\n",
    "import statistics as stats\n",
    "a = np.array ([3,1,2,9,3,0,4,7,2,5,8,6])\n",
    "print (np.mean(a))\n",
    "print (np.median(a))\n",
    "print (stats.mode(a))\n",
    "print (np.std(a))\n",
    "print (np.var(a))\n",
    "\n"
   ]
  },
  {
   "cell_type": "code",
   "execution_count": 80,
   "metadata": {},
   "outputs": [
    {
     "name": "stdout",
     "output_type": "stream",
     "text": [
      "[[1. 1.]\n",
      " [1. 1.]]\n",
      "[[ 1. -1.]\n",
      " [-1.  1.]]\n",
      "[[ 1.         -0.53546142]\n",
      " [-0.53546142  1.        ]]\n"
     ]
    }
   ],
   "source": [
    "# COOFICIENT OF CO_RELATION\n",
    "a = [1,2,3,2,1]\n",
    "b = [3,5,7,5,3]\n",
    "c = [7,5,3,5,7]\n",
    "d = [111,55,15,4,68324]\n",
    "print (np.corrcoef([a,b]))\n",
    "print (np.corrcoef([a,c]))\n",
    "print (np.corrcoef([a,d]))\n"
   ]
  }
 ],
 "metadata": {
  "kernelspec": {
   "display_name": "Python 3",
   "language": "python",
   "name": "python3"
  },
  "language_info": {
   "codemirror_mode": {
    "name": "ipython",
    "version": 3
   },
   "file_extension": ".py",
   "mimetype": "text/x-python",
   "name": "python",
   "nbconvert_exporter": "python",
   "pygments_lexer": "ipython3",
   "version": "3.13.1"
  }
 },
 "nbformat": 4,
 "nbformat_minor": 2
}
