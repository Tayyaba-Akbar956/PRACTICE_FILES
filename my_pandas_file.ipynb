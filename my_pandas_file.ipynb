{
 "cells": [
  {
   "cell_type": "code",
   "execution_count": 3,
   "metadata": {},
   "outputs": [],
   "source": [
    "import pandas as pd\n"
   ]
  },
  {
   "cell_type": "markdown",
   "metadata": {},
   "source": [
    "### CREATION ###"
   ]
  },
  {
   "cell_type": "code",
   "execution_count": null,
   "metadata": {},
   "outputs": [
    {
     "name": "stdout",
     "output_type": "stream",
     "text": [
      "      name  age  salary\n",
      "0    Alice   25   40000\n",
      "1      Bob   32   38000\n",
      "2  Charlie   28   20000\n"
     ]
    }
   ],
   "source": [
    "# OWN DATA \n",
    "data = {\"name\" : [\"Alice\",\"Bob\",\"Charlie\"],\n",
    "        \"age\" : [25,32,28],\n",
    "        \"salary\" : [40000,38000,20000]}\n",
    "df = pd.DataFrame(data)\n",
    "print (df)"
   ]
  },
  {
   "cell_type": "code",
   "execution_count": 4,
   "metadata": {},
   "outputs": [
    {
     "name": "stdout",
     "output_type": "stream",
     "text": [
      "      Name  Age  Gender Occupation\n",
      "0    Alice   25  Female   Engineer\n",
      "1      Bob   30    Male     Doctor\n",
      "2  Charlie   28    Male    Teacher\n",
      "3    Diana   22  Female   Designer\n",
      "4    Ethan   35    Male    Manager\n"
     ]
    }
   ],
   "source": [
    "# CSV FILE \n",
    "a = pd.read_csv(\"C:/Users/user/Desktop/PIAIC/practice/sample.csv\")\n",
    "print (a)"
   ]
  },
  {
   "cell_type": "code",
   "execution_count": 6,
   "metadata": {},
   "outputs": [
    {
     "name": "stdout",
     "output_type": "stream",
     "text": [
      "      Name  Age                Email    Country\n",
      "0    Alice   25    alice@example.com        USA\n",
      "1      Bob   30      bob@example.com         UK\n",
      "2  Charlie   22  charlie@example.com     Canada\n",
      "3    David   35    david@example.com    Germany\n",
      "4     Emma   28     emma@example.com  Australia\n"
     ]
    }
   ],
   "source": [
    "#  EXCEL FILE \n",
    "b = pd.read_excel(\"sample_data.xlsx\")\n",
    "print (b)"
   ]
  },
  {
   "cell_type": "markdown",
   "metadata": {},
   "source": [
    "### EXPLORING ###\n"
   ]
  },
  {
   "cell_type": "code",
   "execution_count": 3,
   "metadata": {},
   "outputs": [
    {
     "name": "stdout",
     "output_type": "stream",
     "text": [
      "      Name  Age                Email    Country\n",
      "0    Alice   25    alice@example.com        USA\n",
      "1      Bob   30      bob@example.com         UK\n",
      "2  Charlie   22  charlie@example.com     Canada\n",
      "3    David   35    david@example.com    Germany\n",
      "4     Emma   28     emma@example.com  Australia\n"
     ]
    }
   ],
   "source": [
    "# TO GET COMPLETE DATA\n",
    "b = pd.read_excel(\"sample_data.xlsx\")\n",
    "print (b)"
   ]
  },
  {
   "cell_type": "code",
   "execution_count": null,
   "metadata": {},
   "outputs": [
    {
     "name": "stdout",
     "output_type": "stream",
     "text": [
      "    Name  Age              Email Country\n",
      "0  Alice   25  alice@example.com     USA\n",
      "1    Bob   30    bob@example.com      UK\n",
      "      Name  Age                Email    Country\n",
      "0    Alice   25    alice@example.com        USA\n",
      "1      Bob   30      bob@example.com         UK\n",
      "2  Charlie   22  charlie@example.com     Canada\n",
      "3    David   35    david@example.com    Germany\n",
      "4     Emma   28     emma@example.com  Australia\n"
     ]
    }
   ],
   "source": [
    "# TO GET STRATING LINES DATA\n",
    "\n",
    "b = pd.read_excel(\"sample_data.xlsx\")\n",
    "print (b.head(2))\n",
    "print (b.head()) # DEFAULT VALUE == 5"
   ]
  },
  {
   "cell_type": "code",
   "execution_count": 6,
   "metadata": {},
   "outputs": [
    {
     "name": "stdout",
     "output_type": "stream",
     "text": [
      "      Name  Age                Email    Country\n",
      "2  Charlie   22  charlie@example.com     Canada\n",
      "3    David   35    david@example.com    Germany\n",
      "4     Emma   28     emma@example.com  Australia\n",
      "      Name  Age                Email    Country\n",
      "0    Alice   25    alice@example.com        USA\n",
      "1      Bob   30      bob@example.com         UK\n",
      "2  Charlie   22  charlie@example.com     Canada\n",
      "3    David   35    david@example.com    Germany\n",
      "4     Emma   28     emma@example.com  Australia\n"
     ]
    }
   ],
   "source": [
    "# TO GET ENDING LINES DATA\n",
    "b = pd.read_excel(\"sample_data.xlsx\")\n",
    "print (b.tail(3))\n",
    "print (b.tail())"
   ]
  },
  {
   "cell_type": "code",
   "execution_count": null,
   "metadata": {},
   "outputs": [
    {
     "name": "stdout",
     "output_type": "stream",
     "text": [
      "<class 'pandas.core.frame.DataFrame'>\n",
      "RangeIndex: 50 entries, 0 to 49\n",
      "Data columns (total 6 columns):\n",
      " #   Column    Non-Null Count  Dtype  \n",
      "---  ------    --------------  -----  \n",
      " 0   Column 1  47 non-null     float64\n",
      " 1   Column 2  39 non-null     float64\n",
      " 2   Column 3  44 non-null     float64\n",
      " 3   Column 4  44 non-null     float64\n",
      " 4   Column 5  41 non-null     float64\n",
      " 5   Column 6  38 non-null     float64\n",
      "dtypes: float64(6)\n",
      "memory usage: 2.5 KB\n",
      "None\n"
     ]
    }
   ],
   "source": [
    "#  TO GET COMPLETE INFORMATION OF DATA\n",
    "d = pd.read_excel(\"C:/Users/user/Downloads/random_data.xlsx\")\n",
    "print (d.info())"
   ]
  },
  {
   "cell_type": "code",
   "execution_count": null,
   "metadata": {},
   "outputs": [
    {
     "name": "stdout",
     "output_type": "stream",
     "text": [
      "        Column 1   Column 2   Column 3   Column 4   Column 5   Column 6\n",
      "count  47.000000  39.000000  44.000000  44.000000  41.000000  38.000000\n",
      "mean   54.829787  42.564103  46.590909  49.272727  48.243902  51.157895\n",
      "std    28.635884  30.362542  29.008674  29.248227  28.997224  24.914477\n",
      "min     2.000000   1.000000   2.000000   1.000000   4.000000  11.000000\n",
      "25%    28.500000  17.000000  20.250000  23.750000  22.000000  29.750000\n",
      "50%    55.000000  41.000000  42.500000  51.000000  45.000000  51.500000\n",
      "75%    80.500000  71.000000  68.250000  75.250000  72.000000  67.500000\n",
      "max    99.000000  98.000000  94.000000  99.000000  97.000000  99.000000\n"
     ]
    }
   ],
   "source": [
    "# TO GET AGGREGATE AND STATISTICAL INFORMATION\n",
    "d = pd.read_excel(\"C:/Users/user/Downloads/random_data.xlsx\")\n",
    "print (d.describe())"
   ]
  },
  {
   "cell_type": "code",
   "execution_count": 12,
   "metadata": {},
   "outputs": [
    {
     "name": "stdout",
     "output_type": "stream",
     "text": [
      "Column 1     3\n",
      "Column 2    11\n",
      "Column 3     6\n",
      "Column 4     6\n",
      "Column 5     9\n",
      "Column 6    12\n",
      "dtype: int64\n"
     ]
    }
   ],
   "source": [
    "#  TO GET NULL VALUE IN BOOLEAN FORM\n",
    "d = pd.read_excel(\"C:/Users/user/Downloads/random_data.xlsx\")\n",
    "#print (d.isnull())\n",
    "# TO GET COUNT OF A NULL VALUE \n",
    "print (d.isnull().sum())\n",
    "\n"
   ]
  },
  {
   "cell_type": "markdown",
   "metadata": {},
   "source": [
    "### HANDLING DUPLICATES ###"
   ]
  },
  {
   "cell_type": "code",
   "execution_count": null,
   "metadata": {},
   "outputs": [
    {
     "name": "stdout",
     "output_type": "stream",
     "text": [
      "   Employee ID     Name   Age       Department  Salary Joining Date\n",
      "0        E1000   Bisma   23.0               IT   55786   2020-06-15\n",
      "1        E1001   Hannah  42.0        Marketing  108263   2021-03-09\n",
      "2        E1002    Alice  25.0               IT   61941   2023-12-13\n",
      "3        E1003      Bob  51.0               IT   45941   2021-03-09\n",
      "4        E1004   Hannah  45.0       Operations   63249   2023-01-12\n",
      "5        E1005  Charlie  27.0               IT   46847   2023-04-28\n",
      "6        E1006    Grace  41.0               HR   57358   2022-09-11\n",
      "7        E1007  Charlie  32.0        Marketing   65279   2022-07-12\n",
      "8        E1008  Charlie  50.0               IT   96007   2023-01-27\n",
      "9        E1009      Bob  54.0        Marketing   35673   2020-01-22\n",
      "10       E1010      Bob  41.0              NaN  115441   2021-09-12\n",
      "11       E1011      Eve  49.0               IT   34889   2020-07-17\n",
      "13       E1013      Bob  55.0               HR   39081   2021-03-21\n",
      "14       E1014    Alice  24.0               IT   72071   2020-12-10\n",
      "15       E1015    Frank  56.0        Marketing   63226   2020-12-10\n",
      "16       E1016    Frank  38.0  Adiministration  103651   2022-07-22\n",
      "17       E1017  Charlie  52.0               IT   68690   2023-01-14\n",
      "18       E1018      Eve  53.0               IT  111505   2020-07-07\n",
      "19       E1019      Bob  38.0               IT   33774   2021-11-23\n",
      "20       E1020      Bob  26.0  Adiministration   55642   2023-01-14\n",
      "21       E1021   Hannah  54.0               IT   98207   2022-08-03\n",
      "22       E1023      Bob  54.0               HR   99275   2023-01-14\n",
      "24       E1024   Hannah  48.0          Finance   75888   2020-02-03\n",
      "25       E1025    Grace  54.0               HR  110203   2021-07-26\n",
      "26       E1026      Eve   NaN       Operations  104078   2020-12-10\n",
      "27       E1027   Hannah  53.0               IT   55676   2022-07-28\n",
      "28       E1028    David  31.0       Operations   96392   2020-02-01\n",
      "29       E1029  Charlie  22.0               IT   96392   2023-02-28\n",
      "   Employee ID     Name   Age Department  Salary Joining Date\n",
      "0        E1000   Bisma   23.0         IT   55786   2020-06-15\n",
      "1        E1001   Hannah  42.0  Marketing  108263   2021-03-09\n",
      "2        E1002    Alice  25.0         IT   61941   2023-12-13\n",
      "3        E1003      Bob  51.0         IT   45941   2021-03-09\n",
      "5        E1005  Charlie  27.0         IT   46847   2023-04-28\n",
      "6        E1006    Grace  41.0         HR   57358   2022-09-11\n",
      "11       E1011      Eve  49.0         IT   34889   2020-07-17\n",
      "15       E1015    Frank  56.0  Marketing   63226   2020-12-10\n",
      "23       E1023    David  52.0         HR   64378   2023-02-12\n",
      "   Employee ID    Name   Age       Department  Salary Joining Date\n",
      "0        E1000  Bisma   23.0               IT   55786   2020-06-15\n",
      "1        E1001  Hannah  42.0        Marketing  108263   2021-03-09\n",
      "4        E1004  Hannah  45.0       Operations   63249   2023-01-12\n",
      "6        E1006   Grace  41.0               HR   57358   2022-09-11\n",
      "10       E1010     Bob  41.0              NaN  115441   2021-09-12\n",
      "16       E1016   Frank  38.0  Adiministration  103651   2022-07-22\n",
      "24       E1024  Hannah  48.0          Finance   75888   2020-02-03\n"
     ]
    }
   ],
   "source": [
    "# TO CHECK DUPLICATE IN A ROW\n",
    "e = pd.read_excel(\"C:/Users/user/Downloads/employee_data.xlsx\")\n",
    "print (e.duplicated())\n",
    "# TO CHECK DUPLICATE IN A COLUMN\n",
    "print (e[\"Employee ID\"].duplicated())\n",
    "print (e[\"Employee ID\"].duplicated().sum())\n",
    "# TO DROP DUPLICATE BY COLUMNS\n",
    "f = e.drop_duplicates(\"Employee ID\")\n",
    "g = e.drop_duplicates(\"Name\")\n",
    "h = e.drop_duplicates(\"Department\")\n",
    "print (f)\n",
    "print (g)\n",
    "print (h)\n"
   ]
  },
  {
   "cell_type": "markdown",
   "metadata": {},
   "source": [
    "### WORKING WITH MISSING DATA ###\n"
   ]
  },
  {
   "cell_type": "code",
   "execution_count": 4,
   "metadata": {},
   "outputs": [
    {
     "name": "stdout",
     "output_type": "stream",
     "text": [
      "Employee ID     1\n",
      "Name            3\n",
      "Age             4\n",
      "Department      3\n",
      "Salary          4\n",
      "Joining Date    4\n",
      "dtype: int64\n"
     ]
    }
   ],
   "source": [
    "a = pd.read_excel(\"C:/Users/user/Downloads/employee_data.xlsx\")\n",
    "#print (a.isnull()) # TO GET NULL VALUE IN BOOLEAN FORM\n",
    "print (a.isnull().sum()) # TO GET COUNT OF A NULL VALUE"
   ]
  },
  {
   "cell_type": "code",
   "execution_count": null,
   "metadata": {},
   "outputs": [
    {
     "name": "stdout",
     "output_type": "stream",
     "text": [
      "   Employee ID     Name   Age       Department    Salary Joining Date\n",
      "0        E1000   Bisma   23.0               IT   55786.0   2020-06-15\n",
      "1        E1001      NaN  42.0        Marketing  108263.0   2021-03-09\n",
      "2        E1002    Alice  42.0               IT   61941.0   2023-12-13\n",
      "3        E1003      Bob  51.0               IT   74318.0          NaT\n",
      "4        E1004   Hannah  45.0       Operations   63249.0   2023-01-12\n",
      "5        E1005  Charlie  27.0               IT   74318.0   2023-04-28\n",
      "6        E1006    Grace  41.0               HR   57358.0   2022-09-11\n",
      "7        E1007  Charlie  32.0        Marketing   65279.0   2022-07-12\n",
      "8        E1008  Charlie  50.0               IT   96007.0   2023-01-27\n",
      "9        E1009      NaN  54.0        Marketing   35673.0          NaT\n",
      "10       E1010      Bob  42.0              NaN  115441.0   2021-09-12\n",
      "11       E1011      Eve  49.0               IT   34889.0   2020-07-17\n",
      "12         NaN    Alice  26.0       Operations   66115.0   2023-05-02\n",
      "13       E1013      Bob  55.0               HR   39081.0   2021-03-21\n",
      "14       E1014    Alice  24.0               IT   72071.0   2020-12-10\n",
      "15       E1015    Frank  56.0        Marketing   63226.0   2020-12-10\n",
      "16       E1016    Frank  38.0  Adiministration  103651.0   2022-07-22\n",
      "17       E1017  Charlie  42.0              NaN   68690.0   2023-01-14\n",
      "18       E1018      Eve  53.0              NaN   74318.0   2020-07-07\n",
      "19       E1019      Bob  38.0               IT   33774.0   2021-11-23\n",
      "20       E1020      Bob  26.0  Adiministration   55642.0   2023-01-14\n",
      "21       E1021   Hannah  54.0               IT   98207.0          NaT\n",
      "22       E1023      Bob  54.0               HR   99275.0   2023-01-14\n",
      "23       E1023    David  52.0               HR   74318.0   2023-02-12\n",
      "24       E1024   Hannah  48.0          Finance   75888.0   2020-02-03\n",
      "25       E1025    Grace  54.0               HR  110203.0   2021-07-26\n",
      "26       E1026      Eve  42.0       Operations  104078.0          NaT\n",
      "27       E1027      NaN  53.0               IT   55676.0   2022-07-28\n",
      "28       E1028    David  31.0       Operations   96392.0   2020-02-01\n",
      "29       E1029  Charlie  22.0               IT   96392.0   2023-02-28\n",
      "74317.3\n"
     ]
    }
   ],
   "source": [
    "# REPLACE NULL VALUE WITH A SPECIFIC VALUE\n",
    "import numpy as np\n",
    "a[\"Age\"] = a[\"Age\"].replace(np.nan,42)\n",
    "print (a)\n",
    "print (a[\"Salary\"].mean())\n",
    "a[\"Salary\"] = a[\"Salary\"].replace(np.nan,74318)\n",
    "print (a)\n",
    "print (a[\"Salary\"].mean())\n"
   ]
  },
  {
   "cell_type": "code",
   "execution_count": null,
   "metadata": {},
   "outputs": [
    {
     "name": "stdout",
     "output_type": "stream",
     "text": [
      "   Employee ID     Name   Age       Department    Salary Joining Date\n",
      "0        E1000   Bisma   23.0               IT   55786.0   2020-06-15\n",
      "1        E1001   Bisma   42.0        Marketing  108263.0   2021-03-09\n",
      "2        E1002    Alice  42.0               IT   61941.0   2023-12-13\n",
      "3        E1003      Bob  51.0               IT   74318.0   2023-12-13\n",
      "4        E1004   Hannah  45.0       Operations   63249.0   2023-01-12\n",
      "5        E1005  Charlie  27.0               IT   74318.0   2023-04-28\n",
      "6        E1006    Grace  41.0               HR   57358.0   2022-09-11\n",
      "7        E1007  Charlie  32.0        Marketing   65279.0   2022-07-12\n",
      "8        E1008  Charlie  50.0               IT   96007.0   2023-01-27\n",
      "9        E1009  Charlie  54.0        Marketing   35673.0   2023-01-27\n",
      "10       E1010      Bob  42.0        Marketing  115441.0   2021-09-12\n",
      "11       E1011      Eve  49.0               IT   34889.0   2020-07-17\n",
      "12       E1011    Alice  26.0       Operations   66115.0   2023-05-02\n",
      "13       E1013      Bob  55.0               HR   39081.0   2021-03-21\n",
      "14       E1014    Alice  24.0               IT   72071.0   2020-12-10\n",
      "15       E1015    Frank  56.0        Marketing   63226.0   2020-12-10\n",
      "16       E1016    Frank  38.0  Adiministration  103651.0   2022-07-22\n",
      "17       E1017  Charlie  42.0  Adiministration   68690.0   2023-01-14\n",
      "18       E1018      Eve  53.0  Adiministration   74318.0   2020-07-07\n",
      "19       E1019      Bob  38.0               IT   33774.0   2021-11-23\n",
      "20       E1020      Bob  26.0  Adiministration   55642.0   2023-01-14\n",
      "21       E1021   Hannah  54.0               IT   98207.0   2023-01-14\n",
      "22       E1023      Bob  54.0               HR   99275.0   2023-01-14\n",
      "23       E1023    David  52.0               HR   74318.0   2023-02-12\n",
      "24       E1024   Hannah  48.0          Finance   75888.0   2020-02-03\n",
      "25       E1025    Grace  54.0               HR  110203.0   2021-07-26\n",
      "26       E1026      Eve  42.0       Operations  104078.0   2021-07-26\n",
      "27       E1027      Eve  53.0               IT   55676.0   2022-07-28\n",
      "28       E1028    David  31.0       Operations   96392.0   2020-02-01\n",
      "29       E1029  Charlie  22.0               IT   96392.0   2023-02-28\n",
      "   Employee ID     Name   Age       Department    Salary Joining Date\n",
      "0        E1000   Bisma   23.0               IT   55786.0   2020-06-15\n",
      "1        E1001      NaN  42.0        Marketing  108263.0   2021-03-09\n",
      "2        E1002    Alice  42.0               IT   61941.0   2023-12-13\n",
      "3        E1003      Bob  51.0               IT   74318.0          NaT\n",
      "4        E1004   Hannah  45.0       Operations   63249.0   2023-01-12\n",
      "5        E1005  Charlie  27.0               IT   74318.0   2023-04-28\n",
      "6        E1006    Grace  41.0               HR   57358.0   2022-09-11\n",
      "7        E1007  Charlie  32.0        Marketing   65279.0   2022-07-12\n",
      "8        E1008  Charlie  50.0               IT   96007.0   2023-01-27\n",
      "9        E1009      NaN  54.0        Marketing   35673.0          NaT\n",
      "10       E1010      Bob  42.0              NaN  115441.0   2021-09-12\n",
      "11       E1011      Eve  49.0               IT   34889.0   2020-07-17\n",
      "12         NaN    Alice  26.0       Operations   66115.0   2023-05-02\n",
      "13       E1013      Bob  55.0               HR   39081.0   2021-03-21\n",
      "14       E1014    Alice  24.0               IT   72071.0   2020-12-10\n",
      "15       E1015    Frank  56.0        Marketing   63226.0   2020-12-10\n",
      "16       E1016    Frank  38.0  Adiministration  103651.0   2022-07-22\n",
      "17       E1017  Charlie  42.0              NaN   68690.0   2023-01-14\n",
      "18       E1018      Eve  53.0              NaN   74318.0   2020-07-07\n",
      "19       E1019      Bob  38.0               IT   33774.0   2021-11-23\n",
      "20       E1020      Bob  26.0  Adiministration   55642.0   2023-01-14\n",
      "21       E1021   Hannah  54.0               IT   98207.0          NaT\n",
      "22       E1023      Bob  54.0               HR   99275.0   2023-01-14\n",
      "23       E1023    David  52.0               HR   74318.0   2023-02-12\n",
      "24       E1024   Hannah  48.0          Finance   75888.0   2020-02-03\n",
      "25       E1025    Grace  54.0               HR  110203.0   2021-07-26\n",
      "26       E1026      Eve  42.0       Operations  104078.0          NaT\n",
      "27       E1027      NaN  53.0               IT   55676.0   2022-07-28\n",
      "28       E1028    David  31.0       Operations   96392.0   2020-02-01\n",
      "29       E1029  Charlie  22.0               IT   96392.0   2023-02-28\n"
     ]
    },
    {
     "name": "stderr",
     "output_type": "stream",
     "text": [
      "C:\\Users\\user\\AppData\\Local\\Temp\\ipykernel_2492\\232898415.py:2: FutureWarning: DataFrame.fillna with 'method' is deprecated and will raise in a future version. Use obj.ffill() or obj.bfill() instead.\n",
      "  print (a.fillna(method = \"ffill\"))\n"
     ]
    }
   ],
   "source": [
    "# REPLACING NULL VALUE WITH ABOVE OR BELOW VALUE\n",
    "print (a.fillna(method = \"ffill\"))\n",
    "print (a)\n"
   ]
  }
 ],
 "metadata": {
  "kernelspec": {
   "display_name": "Python 3",
   "language": "python",
   "name": "python3"
  },
  "language_info": {
   "codemirror_mode": {
    "name": "ipython",
    "version": 3
   },
   "file_extension": ".py",
   "mimetype": "text/x-python",
   "name": "python",
   "nbconvert_exporter": "python",
   "pygments_lexer": "ipython3",
   "version": "3.13.1"
  }
 },
 "nbformat": 4,
 "nbformat_minor": 2
}
